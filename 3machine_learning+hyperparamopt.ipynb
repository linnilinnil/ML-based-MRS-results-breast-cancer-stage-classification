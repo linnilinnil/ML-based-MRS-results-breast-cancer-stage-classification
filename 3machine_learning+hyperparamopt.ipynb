{
 "cells": [
  {
   "cell_type": "code",
   "execution_count": 4,
   "metadata": {},
   "outputs": [
    {
     "name": "stdout",
     "output_type": "stream",
     "text": [
      "Defaulting to user installation because normal site-packages is not writeable\n",
      "Collecting scikit-plot\n",
      "  Using cached scikit_plot-0.3.7-py3-none-any.whl (33 kB)\n",
      "Requirement already satisfied: matplotlib>=1.4.0 in /Users/linlin/Library/Python/3.9/lib/python/site-packages (from scikit-plot) (3.7.1)\n",
      "Requirement already satisfied: scikit-learn>=0.18 in /Users/linlin/Library/Python/3.9/lib/python/site-packages (from scikit-plot) (1.2.1)\n",
      "Requirement already satisfied: scipy>=0.9 in /Users/linlin/Library/Python/3.9/lib/python/site-packages (from scikit-plot) (1.10.1)\n",
      "Requirement already satisfied: joblib>=0.10 in /Users/linlin/Library/Python/3.9/lib/python/site-packages (from scikit-plot) (1.2.0)\n",
      "Requirement already satisfied: contourpy>=1.0.1 in /Users/linlin/Library/Python/3.9/lib/python/site-packages (from matplotlib>=1.4.0->scikit-plot) (1.0.7)\n",
      "Requirement already satisfied: cycler>=0.10 in /Users/linlin/Library/Python/3.9/lib/python/site-packages (from matplotlib>=1.4.0->scikit-plot) (0.11.0)\n",
      "Requirement already satisfied: fonttools>=4.22.0 in /Users/linlin/Library/Python/3.9/lib/python/site-packages (from matplotlib>=1.4.0->scikit-plot) (4.39.2)\n",
      "Requirement already satisfied: kiwisolver>=1.0.1 in /Users/linlin/Library/Python/3.9/lib/python/site-packages (from matplotlib>=1.4.0->scikit-plot) (1.4.4)\n",
      "Requirement already satisfied: numpy>=1.20 in /Users/linlin/Library/Python/3.9/lib/python/site-packages (from matplotlib>=1.4.0->scikit-plot) (1.23.5)\n",
      "Requirement already satisfied: packaging>=20.0 in /Users/linlin/Library/Python/3.9/lib/python/site-packages (from matplotlib>=1.4.0->scikit-plot) (23.0)\n",
      "Requirement already satisfied: pillow>=6.2.0 in /Users/linlin/Library/Python/3.9/lib/python/site-packages (from matplotlib>=1.4.0->scikit-plot) (9.4.0)\n",
      "Requirement already satisfied: pyparsing>=2.3.1 in /Users/linlin/Library/Python/3.9/lib/python/site-packages (from matplotlib>=1.4.0->scikit-plot) (3.0.9)\n",
      "Requirement already satisfied: python-dateutil>=2.7 in /Users/linlin/Library/Python/3.9/lib/python/site-packages (from matplotlib>=1.4.0->scikit-plot) (2.8.2)\n",
      "Requirement already satisfied: importlib-resources>=3.2.0 in /Users/linlin/Library/Python/3.9/lib/python/site-packages (from matplotlib>=1.4.0->scikit-plot) (5.12.0)\n",
      "Requirement already satisfied: threadpoolctl>=2.0.0 in /Users/linlin/Library/Python/3.9/lib/python/site-packages (from scikit-learn>=0.18->scikit-plot) (3.1.0)\n",
      "Requirement already satisfied: zipp>=3.1.0 in /Users/linlin/Library/Python/3.9/lib/python/site-packages (from importlib-resources>=3.2.0->matplotlib>=1.4.0->scikit-plot) (3.12.0)\n",
      "Requirement already satisfied: six>=1.5 in /Applications/Xcode.app/Contents/Developer/Library/Frameworks/Python3.framework/Versions/3.9/lib/python3.9/site-packages (from python-dateutil>=2.7->matplotlib>=1.4.0->scikit-plot) (1.15.0)\n",
      "Installing collected packages: scikit-plot\n",
      "Successfully installed scikit-plot-0.3.7\n"
     ]
    }
   ],
   "source": [
    "!pip install scikit-plot"
   ]
  },
  {
   "cell_type": "code",
   "execution_count": 1,
   "metadata": {},
   "outputs": [],
   "source": [
    "import pandas as pd\n",
    "from matplotlib import pyplot as plt\n",
    "import numpy as np\n",
    "import pingouin as pg\n",
    "import biutils \n",
    "\n",
    "from sklearn.preprocessing import StandardScaler,LabelEncoder \n",
    "from sklearn.model_selection import GridSearchCV,StratifiedGroupKFold, StratifiedShuffleSplit\n",
    "from sklearn.model_selection import cross_validate, cross_val_score"
   ]
  },
  {
   "attachments": {},
   "cell_type": "markdown",
   "metadata": {},
   "source": [
    "we are using the datasets from the previous notebooks, feel free to modify it to something else with similar format."
   ]
  },
  {
   "cell_type": "code",
   "execution_count": 2,
   "metadata": {},
   "outputs": [],
   "source": [
    "# retrieve table from database\n",
    "binary = biutils.get_tbl('binary')\n",
    "no_out = biutils.get_tbl('bino_out')\n",
    "zdata = biutils.get_tbl(\"bizdata\")"
   ]
  },
  {
   "cell_type": "code",
   "execution_count": 3,
   "metadata": {},
   "outputs": [],
   "source": [
    "mcolumns = list(binary.columns)\n",
    "mcolumns.remove('voxel')\n",
    "mcolumns.remove('label')\n",
    "mcolumns.remove('dataset')\n",
    "metlist = list(set([i.split(\" \")[0] for i in mcolumns]))\n",
    "len(metlist)\n",
    "metrics = ['FAT14ratio','ratioWAT47_1d','ratioFAT14_1d','ratioFAT54_1d']\n",
    "oned = ['nws_ffrac','nws_wfrac','nws_wfratio']\n"
   ]
  },
  {
   "cell_type": "code",
   "execution_count": 4,
   "metadata": {},
   "outputs": [],
   "source": [
    "\n",
    "intervars =['triglycerylfatcrossp(TGFRupper) FAT14ratio', \n",
    "'methylfat(FMETD10) FAT14ratio', \n",
    "'olefinicfat(UFD54) FAT14ratio', \n",
    "'fat(4p2_3p9) FAT14ratio', \n",
    "'methylenefat(FAT21) FAT14ratio', \n",
    "'fat(2p06_1p32) ratioWAT47_1d', \n",
    "'adc', 'gly+myo FAT14ratio', \n",
    "'fat(1p32_0p9) FAT14ratio']\n",
    "\n",
    "intername = ['TGFRupper/FAT14','FMETD/FAT14','UFD54/FAT14','CP8/FAT14',\n",
    "'FAT21/FAT14','CP4/FAT14','ADC','mI+Gly/FAT14','CP2/FAT14']\n",
    "\n",
    "renamed = no_out[intervars+['voxel','dataset','label']]\n",
    "renamed = renamed.rename(columns=dict(zip(intervars,intername)))\n"
   ]
  },
  {
   "attachments": {},
   "cell_type": "markdown",
   "metadata": {},
   "source": [
    "## Train-test split"
   ]
  },
  {
   "attachments": {},
   "cell_type": "markdown",
   "metadata": {},
   "source": [
    "Getting train and test sets based on selected variables. \n",
    "\n",
    "To prevent repeated inclusion of data in the test sets:\n",
    "\n",
    "we split based on dataset names, such that test and train sets do not share voxels from same datasets, by setting groups = dataset in the GroupShuffleSplit and (Stratified)GroupKFold methods. "
   ]
  },
  {
   "cell_type": "code",
   "execution_count": 6,
   "metadata": {},
   "outputs": [],
   "source": [
    "def tts(dat,vars, train_size = 0.8,rs=np.random.RandomState()): \n",
    "    X = dat[vars] #select feature\n",
    "    y = LabelEncoder().fit_transform(dat.label) #select target, which is stored in the label column\n",
    "    groups = dat[['dataset']]\n",
    "    group_dict = dict(zip(dat.dataset,dat.label))\n",
    "    gps = list(group_dict.keys()) #groups\n",
    "    gl = list(group_dict.values()) #group label\n",
    "    # the following code perform stratified shuffle split on the groups into train and test\n",
    "    sss = StratifiedShuffleSplit(n_splits=1,train_size=train_size,random_state=rs) \n",
    "    for i, (train_index, test_index) in enumerate(sss.split(gps, gl)):\n",
    "        #print(i)\n",
    "        trds = [gps[idx] for idx in train_index] \n",
    "        teds = [gps[idx] for idx in test_index]\n",
    "        g_train = groups[groups.dataset.isin(trds)].dataset\n",
    "        g_test = groups[groups.dataset.isin(teds)].dataset\n",
    "        #print(set(g_train).intersection(set(g_test))) \n",
    "        # then based on the groups we assign datapoints\n",
    "        X_train = X.loc[dat.dataset.isin(g_train),vars]\n",
    "        X_test = X.loc[dat.dataset.isin(g_test),vars]\n",
    "        y_train = y[dat.dataset.isin(g_train)]\n",
    "        y_test = y[dat.dataset.isin(g_test)]\n",
    "    scaler = StandardScaler()\n",
    "    X_train = scaler.fit_transform(X_train) \n",
    "    X_test = scaler.transform(X_test) #also perform standardization for both.\n",
    "    return X_train,X_test,y_train,y_test,g_train,g_test\n"
   ]
  },
  {
   "cell_type": "code",
   "execution_count": 7,
   "metadata": {},
   "outputs": [
    {
     "name": "stdout",
     "output_type": "stream",
     "text": [
      "350\n",
      "86\n"
     ]
    }
   ],
   "source": [
    "X_train,X_test,y_train,y_test,g_train,g_test = tts(no_out,mcolumns,rs=42)\n",
    "print(len(X_train))\n",
    "print(len(X_test))\n",
    "#sanity check, if the random_State (rs) is 42, the number should be 350 and 86 for breast"
   ]
  },
  {
   "attachments": {},
   "cell_type": "markdown",
   "metadata": {},
   "source": [
    "How many datasets are in train and test"
   ]
  },
  {
   "cell_type": "code",
   "execution_count": 8,
   "metadata": {},
   "outputs": [
    {
     "name": "stdout",
     "output_type": "stream",
     "text": [
      "number of malignant voxels:\n",
      "241\n",
      "number of benign voxels:\n",
      "195\n"
     ]
    },
    {
     "data": {
      "image/png": "[encoded data removed]",
      "text/plain": [
       "<Figure size 640x480 with 2 Axes>"
      ]
     },
     "metadata": {},
     "output_type": "display_data"
    }
   ],
   "source": [
    "#outlier removed, class distributions\n",
    "maglinantd, benignd = biutils.data_const(no_out)"
   ]
  },
  {
   "cell_type": "code",
   "execution_count": 9,
   "metadata": {},
   "outputs": [
    {
     "name": "stdout",
     "output_type": "stream",
     "text": [
      "==train==\n",
      "#malignant\n",
      "17\n",
      "#benign\n",
      "14\n",
      "==test==\n",
      "#malignant\n",
      "5\n",
      "#benign\n",
      "3\n"
     ]
    }
   ],
   "source": [
    "print('==train==')\n",
    "print('#malignant')\n",
    "print(len(set(g_train).intersection(set(maglinantd))))\n",
    "print('#benign')\n",
    "print(len(set(g_train).intersection(set(benignd))))\n",
    "print('==test==')\n",
    "print('#malignant')\n",
    "print(len(set(g_test).intersection(set(maglinantd))))\n",
    "print('#benign')\n",
    "print(len(set(g_test).intersection(set(benignd))))"
   ]
  },
  {
   "cell_type": "code",
   "execution_count": 10,
   "metadata": {},
   "outputs": [],
   "source": [
    "#This code is just run to get train and test set index\n",
    "train = no_out[no_out.dataset.isin(g_train.values)]\n",
    "test = no_out[no_out.dataset.isin(g_test.values)]"
   ]
  },
  {
   "attachments": {},
   "cell_type": "markdown",
   "metadata": {},
   "source": [
    "final train and test sets"
   ]
  },
  {
   "cell_type": "code",
   "execution_count": 11,
   "metadata": {},
   "outputs": [
    {
     "name": "stdout",
     "output_type": "stream",
     "text": [
      "#train voxels\n",
      "350\n",
      "#test voxels\n",
      "86\n"
     ]
    }
   ],
   "source": [
    "print('#train voxels')\n",
    "print(len(train))\n",
    "print('#test voxels')\n",
    "print(len(test))"
   ]
  },
  {
   "cell_type": "code",
   "execution_count": 12,
   "metadata": {},
   "outputs": [
    {
     "data": {
      "text/html": [
       "<div>\n",
       "<style scoped>\n",
       "    .dataframe tbody tr th:only-of-type {\n",
       "        vertical-align: middle;\n",
       "    }\n",
       "\n",
       "    .dataframe tbody tr th {\n",
       "        vertical-align: top;\n",
       "    }\n",
       "\n",
       "    .dataframe thead th {\n",
       "        text-align: right;\n",
       "    }\n",
       "</style>\n",
       "<table border=\"1\" class=\"dataframe\">\n",
       "  <thead>\n",
       "    <tr style=\"text-align: right;\">\n",
       "      <th></th>\n",
       "      <th>methylfat(FMETD10) ratioFAT54_1d</th>\n",
       "      <th>methylenefat(FAT14) ratioFAT54_1d</th>\n",
       "      <th>methylenefat(FAT21) ratioFAT54_1d</th>\n",
       "      <th>methylenefat(FAT23) ratioFAT54_1d</th>\n",
       "      <th>methylenefat(FAT29) ratioFAT54_1d</th>\n",
       "      <th>tcholine(CHO32) ratioFAT54_1d</th>\n",
       "      <th>fat39(fat39) ratioFAT54_1d</th>\n",
       "      <th>methyleneglycerolbackbone(MGB42) ratioFAT54_1d</th>\n",
       "      <th>olefinicfat(UFD54) ratioFAT54_1d</th>\n",
       "      <th>unsatfatrightcrossp(UFRlower) ratioFAT54_1d</th>\n",
       "      <th>...</th>\n",
       "      <th>fat(2p06_1p32) ratioWAT47_1d</th>\n",
       "      <th>fat(3p9_4p3) ratioWAT47_1d</th>\n",
       "      <th>fat(4p2_3p9) ratioWAT47_1d</th>\n",
       "      <th>gly+myo ratioWAT47_1d</th>\n",
       "      <th>label</th>\n",
       "      <th>nws_ffrac</th>\n",
       "      <th>nws_wfratio</th>\n",
       "      <th>nws_wfrac</th>\n",
       "      <th>adc</th>\n",
       "      <th>dataset</th>\n",
       "    </tr>\n",
       "  </thead>\n",
       "  <tbody>\n",
       "    <tr>\n",
       "      <th>0</th>\n",
       "      <td>0.00677</td>\n",
       "      <td>0.02733</td>\n",
       "      <td>0.00125</td>\n",
       "      <td>0.00116</td>\n",
       "      <td>0.00043</td>\n",
       "      <td>0.00001</td>\n",
       "      <td>0.00016</td>\n",
       "      <td>0.00051</td>\n",
       "      <td>0.00329</td>\n",
       "      <td>0.00015</td>\n",
       "      <td>...</td>\n",
       "      <td>0.02083</td>\n",
       "      <td>0.00074</td>\n",
       "      <td>0.00114</td>\n",
       "      <td>0.00011</td>\n",
       "      <td>benign</td>\n",
       "      <td>0.131044</td>\n",
       "      <td>16.817404</td>\n",
       "      <td>0.868956</td>\n",
       "      <td>1.77800</td>\n",
       "      <td>data005</td>\n",
       "    </tr>\n",
       "    <tr>\n",
       "      <th>1</th>\n",
       "      <td>0.00616</td>\n",
       "      <td>0.02613</td>\n",
       "      <td>0.00108</td>\n",
       "      <td>0.00105</td>\n",
       "      <td>0.00038</td>\n",
       "      <td>0.00001</td>\n",
       "      <td>0.00011</td>\n",
       "      <td>0.00036</td>\n",
       "      <td>0.00269</td>\n",
       "      <td>0.00011</td>\n",
       "      <td>...</td>\n",
       "      <td>0.02217</td>\n",
       "      <td>0.00031</td>\n",
       "      <td>0.00093</td>\n",
       "      <td>0.00010</td>\n",
       "      <td>benign</td>\n",
       "      <td>0.125370</td>\n",
       "      <td>17.496441</td>\n",
       "      <td>0.874630</td>\n",
       "      <td>1.77800</td>\n",
       "      <td>data005</td>\n",
       "    </tr>\n",
       "    <tr>\n",
       "      <th>2</th>\n",
       "      <td>0.00630</td>\n",
       "      <td>0.02667</td>\n",
       "      <td>0.00116</td>\n",
       "      <td>0.00112</td>\n",
       "      <td>0.00041</td>\n",
       "      <td>0.00001</td>\n",
       "      <td>0.00014</td>\n",
       "      <td>0.00046</td>\n",
       "      <td>0.00334</td>\n",
       "      <td>0.00013</td>\n",
       "      <td>...</td>\n",
       "      <td>0.02095</td>\n",
       "      <td>0.00062</td>\n",
       "      <td>0.00102</td>\n",
       "      <td>0.00012</td>\n",
       "      <td>benign</td>\n",
       "      <td>0.124689</td>\n",
       "      <td>19.061213</td>\n",
       "      <td>0.875311</td>\n",
       "      <td>1.77800</td>\n",
       "      <td>data005</td>\n",
       "    </tr>\n",
       "    <tr>\n",
       "      <th>3</th>\n",
       "      <td>0.00702</td>\n",
       "      <td>0.02828</td>\n",
       "      <td>0.00117</td>\n",
       "      <td>0.00112</td>\n",
       "      <td>0.00042</td>\n",
       "      <td>0.00001</td>\n",
       "      <td>0.00014</td>\n",
       "      <td>0.00046</td>\n",
       "      <td>0.00291</td>\n",
       "      <td>0.00014</td>\n",
       "      <td>...</td>\n",
       "      <td>0.02350</td>\n",
       "      <td>0.00037</td>\n",
       "      <td>0.00109</td>\n",
       "      <td>0.00010</td>\n",
       "      <td>benign</td>\n",
       "      <td>0.137687</td>\n",
       "      <td>15.190081</td>\n",
       "      <td>0.862313</td>\n",
       "      <td>1.77800</td>\n",
       "      <td>data005</td>\n",
       "    </tr>\n",
       "    <tr>\n",
       "      <th>4</th>\n",
       "      <td>0.00566</td>\n",
       "      <td>0.02320</td>\n",
       "      <td>0.00095</td>\n",
       "      <td>0.00093</td>\n",
       "      <td>0.00033</td>\n",
       "      <td>0.00001</td>\n",
       "      <td>0.00011</td>\n",
       "      <td>0.00035</td>\n",
       "      <td>0.00254</td>\n",
       "      <td>0.00011</td>\n",
       "      <td>...</td>\n",
       "      <td>0.02312</td>\n",
       "      <td>0.00057</td>\n",
       "      <td>0.00102</td>\n",
       "      <td>0.00009</td>\n",
       "      <td>benign</td>\n",
       "      <td>0.116809</td>\n",
       "      <td>18.649412</td>\n",
       "      <td>0.883191</td>\n",
       "      <td>1.77800</td>\n",
       "      <td>data005</td>\n",
       "    </tr>\n",
       "    <tr>\n",
       "      <th>...</th>\n",
       "      <td>...</td>\n",
       "      <td>...</td>\n",
       "      <td>...</td>\n",
       "      <td>...</td>\n",
       "      <td>...</td>\n",
       "      <td>...</td>\n",
       "      <td>...</td>\n",
       "      <td>...</td>\n",
       "      <td>...</td>\n",
       "      <td>...</td>\n",
       "      <td>...</td>\n",
       "      <td>...</td>\n",
       "      <td>...</td>\n",
       "      <td>...</td>\n",
       "      <td>...</td>\n",
       "      <td>...</td>\n",
       "      <td>...</td>\n",
       "      <td>...</td>\n",
       "      <td>...</td>\n",
       "      <td>...</td>\n",
       "      <td>...</td>\n",
       "    </tr>\n",
       "    <tr>\n",
       "      <th>413</th>\n",
       "      <td>0.06369</td>\n",
       "      <td>0.33568</td>\n",
       "      <td>0.01055</td>\n",
       "      <td>0.00862</td>\n",
       "      <td>0.00224</td>\n",
       "      <td>0.00000</td>\n",
       "      <td>0.00294</td>\n",
       "      <td>0.00901</td>\n",
       "      <td>0.03201</td>\n",
       "      <td>0.00147</td>\n",
       "      <td>...</td>\n",
       "      <td>0.15596</td>\n",
       "      <td>0.00311</td>\n",
       "      <td>0.00167</td>\n",
       "      <td>0.00000</td>\n",
       "      <td>malignant</td>\n",
       "      <td>0.733479</td>\n",
       "      <td>0.635733</td>\n",
       "      <td>0.266520</td>\n",
       "      <td>1.54665</td>\n",
       "      <td>dataMLT</td>\n",
       "    </tr>\n",
       "    <tr>\n",
       "      <th>414</th>\n",
       "      <td>0.04438</td>\n",
       "      <td>0.29407</td>\n",
       "      <td>0.00907</td>\n",
       "      <td>0.00594</td>\n",
       "      <td>0.00198</td>\n",
       "      <td>0.00000</td>\n",
       "      <td>0.00158</td>\n",
       "      <td>0.00799</td>\n",
       "      <td>0.02515</td>\n",
       "      <td>0.00099</td>\n",
       "      <td>...</td>\n",
       "      <td>0.21653</td>\n",
       "      <td>0.00193</td>\n",
       "      <td>0.00084</td>\n",
       "      <td>0.00000</td>\n",
       "      <td>malignant</td>\n",
       "      <td>0.716097</td>\n",
       "      <td>0.623264</td>\n",
       "      <td>0.283903</td>\n",
       "      <td>1.54665</td>\n",
       "      <td>dataMLT</td>\n",
       "    </tr>\n",
       "    <tr>\n",
       "      <th>415</th>\n",
       "      <td>0.05731</td>\n",
       "      <td>0.40454</td>\n",
       "      <td>0.01048</td>\n",
       "      <td>0.00762</td>\n",
       "      <td>0.00322</td>\n",
       "      <td>0.00000</td>\n",
       "      <td>0.00184</td>\n",
       "      <td>0.01068</td>\n",
       "      <td>0.03033</td>\n",
       "      <td>0.00079</td>\n",
       "      <td>...</td>\n",
       "      <td>0.30665</td>\n",
       "      <td>0.00280</td>\n",
       "      <td>0.00088</td>\n",
       "      <td>0.00000</td>\n",
       "      <td>malignant</td>\n",
       "      <td>0.789320</td>\n",
       "      <td>0.404949</td>\n",
       "      <td>0.210680</td>\n",
       "      <td>1.54665</td>\n",
       "      <td>dataMLT</td>\n",
       "    </tr>\n",
       "    <tr>\n",
       "      <th>416</th>\n",
       "      <td>0.04522</td>\n",
       "      <td>0.24652</td>\n",
       "      <td>0.00676</td>\n",
       "      <td>0.00499</td>\n",
       "      <td>0.00193</td>\n",
       "      <td>0.00000</td>\n",
       "      <td>0.00207</td>\n",
       "      <td>0.00663</td>\n",
       "      <td>0.02267</td>\n",
       "      <td>0.00089</td>\n",
       "      <td>...</td>\n",
       "      <td>0.13652</td>\n",
       "      <td>0.00237</td>\n",
       "      <td>0.00105</td>\n",
       "      <td>0.00000</td>\n",
       "      <td>malignant</td>\n",
       "      <td>0.682538</td>\n",
       "      <td>0.834575</td>\n",
       "      <td>0.317462</td>\n",
       "      <td>1.54665</td>\n",
       "      <td>dataMLT</td>\n",
       "    </tr>\n",
       "    <tr>\n",
       "      <th>417</th>\n",
       "      <td>0.08276</td>\n",
       "      <td>0.28643</td>\n",
       "      <td>0.01107</td>\n",
       "      <td>0.00827</td>\n",
       "      <td>0.00206</td>\n",
       "      <td>0.00000</td>\n",
       "      <td>0.00285</td>\n",
       "      <td>0.00799</td>\n",
       "      <td>0.02468</td>\n",
       "      <td>0.00072</td>\n",
       "      <td>...</td>\n",
       "      <td>0.03106</td>\n",
       "      <td>0.00540</td>\n",
       "      <td>0.00126</td>\n",
       "      <td>0.00000</td>\n",
       "      <td>malignant</td>\n",
       "      <td>0.699962</td>\n",
       "      <td>0.778165</td>\n",
       "      <td>0.300038</td>\n",
       "      <td>1.54665</td>\n",
       "      <td>dataMLT</td>\n",
       "    </tr>\n",
       "  </tbody>\n",
       "</table>\n",
       "<p>350 rows × 102 columns</p>\n",
       "</div>"
      ],
      "text/plain": [
       "     methylfat(FMETD10) ratioFAT54_1d  methylenefat(FAT14) ratioFAT54_1d  \\\n",
       "0                             0.00677                            0.02733   \n",
       "1                             0.00616                            0.02613   \n",
       "2                             0.00630                            0.02667   \n",
       "3                             0.00702                            0.02828   \n",
       "4                             0.00566                            0.02320   \n",
       "..                                ...                                ...   \n",
       "413                           0.06369                            0.33568   \n",
       "414                           0.04438                            0.29407   \n",
       "415                           0.05731                            0.40454   \n",
       "416                           0.04522                            0.24652   \n",
       "417                           0.08276                            0.28643   \n",
       "\n",
       "     methylenefat(FAT21) ratioFAT54_1d  methylenefat(FAT23) ratioFAT54_1d  \\\n",
       "0                              0.00125                            0.00116   \n",
       "1                              0.00108                            0.00105   \n",
       "2                              0.00116                            0.00112   \n",
       "3                              0.00117                            0.00112   \n",
       "4                              0.00095                            0.00093   \n",
       "..                                 ...                                ...   \n",
       "413                            0.01055                            0.00862   \n",
       "414                            0.00907                            0.00594   \n",
       "415                            0.01048                            0.00762   \n",
       "416                            0.00676                            0.00499   \n",
       "417                            0.01107                            0.00827   \n",
       "\n",
       "     methylenefat(FAT29) ratioFAT54_1d  tcholine(CHO32) ratioFAT54_1d  \\\n",
       "0                              0.00043                        0.00001   \n",
       "1                              0.00038                        0.00001   \n",
       "2                              0.00041                        0.00001   \n",
       "3                              0.00042                        0.00001   \n",
       "4                              0.00033                        0.00001   \n",
       "..                                 ...                            ...   \n",
       "413                            0.00224                        0.00000   \n",
       "414                            0.00198                        0.00000   \n",
       "415                            0.00322                        0.00000   \n",
       "416                            0.00193                        0.00000   \n",
       "417                            0.00206                        0.00000   \n",
       "\n",
       "     fat39(fat39) ratioFAT54_1d  \\\n",
       "0                       0.00016   \n",
       "1                       0.00011   \n",
       "2                       0.00014   \n",
       "3                       0.00014   \n",
       "4                       0.00011   \n",
       "..                          ...   \n",
       "413                     0.00294   \n",
       "414                     0.00158   \n",
       "415                     0.00184   \n",
       "416                     0.00207   \n",
       "417                     0.00285   \n",
       "\n",
       "     methyleneglycerolbackbone(MGB42) ratioFAT54_1d  \\\n",
       "0                                           0.00051   \n",
       "1                                           0.00036   \n",
       "2                                           0.00046   \n",
       "3                                           0.00046   \n",
       "4                                           0.00035   \n",
       "..                                              ...   \n",
       "413                                         0.00901   \n",
       "414                                         0.00799   \n",
       "415                                         0.01068   \n",
       "416                                         0.00663   \n",
       "417                                         0.00799   \n",
       "\n",
       "     olefinicfat(UFD54) ratioFAT54_1d  \\\n",
       "0                             0.00329   \n",
       "1                             0.00269   \n",
       "2                             0.00334   \n",
       "3                             0.00291   \n",
       "4                             0.00254   \n",
       "..                                ...   \n",
       "413                           0.03201   \n",
       "414                           0.02515   \n",
       "415                           0.03033   \n",
       "416                           0.02267   \n",
       "417                           0.02468   \n",
       "\n",
       "     unsatfatrightcrossp(UFRlower) ratioFAT54_1d  ...  \\\n",
       "0                                        0.00015  ...   \n",
       "1                                        0.00011  ...   \n",
       "2                                        0.00013  ...   \n",
       "3                                        0.00014  ...   \n",
       "4                                        0.00011  ...   \n",
       "..                                           ...  ...   \n",
       "413                                      0.00147  ...   \n",
       "414                                      0.00099  ...   \n",
       "415                                      0.00079  ...   \n",
       "416                                      0.00089  ...   \n",
       "417                                      0.00072  ...   \n",
       "\n",
       "     fat(2p06_1p32) ratioWAT47_1d  fat(3p9_4p3) ratioWAT47_1d  \\\n",
       "0                         0.02083                     0.00074   \n",
       "1                         0.02217                     0.00031   \n",
       "2                         0.02095                     0.00062   \n",
       "3                         0.02350                     0.00037   \n",
       "4                         0.02312                     0.00057   \n",
       "..                            ...                         ...   \n",
       "413                       0.15596                     0.00311   \n",
       "414                       0.21653                     0.00193   \n",
       "415                       0.30665                     0.00280   \n",
       "416                       0.13652                     0.00237   \n",
       "417                       0.03106                     0.00540   \n",
       "\n",
       "     fat(4p2_3p9) ratioWAT47_1d  gly+myo ratioWAT47_1d      label  nws_ffrac  \\\n",
       "0                       0.00114                0.00011     benign   0.131044   \n",
       "1                       0.00093                0.00010     benign   0.125370   \n",
       "2                       0.00102                0.00012     benign   0.124689   \n",
       "3                       0.00109                0.00010     benign   0.137687   \n",
       "4                       0.00102                0.00009     benign   0.116809   \n",
       "..                          ...                    ...        ...        ...   \n",
       "413                     0.00167                0.00000  malignant   0.733479   \n",
       "414                     0.00084                0.00000  malignant   0.716097   \n",
       "415                     0.00088                0.00000  malignant   0.789320   \n",
       "416                     0.00105                0.00000  malignant   0.682538   \n",
       "417                     0.00126                0.00000  malignant   0.699962   \n",
       "\n",
       "     nws_wfratio  nws_wfrac      adc  dataset  \n",
       "0      16.817404   0.868956  1.77800  data005  \n",
       "1      17.496441   0.874630  1.77800  data005  \n",
       "2      19.061213   0.875311  1.77800  data005  \n",
       "3      15.190081   0.862313  1.77800  data005  \n",
       "4      18.649412   0.883191  1.77800  data005  \n",
       "..           ...        ...      ...      ...  \n",
       "413     0.635733   0.266520  1.54665  dataMLT  \n",
       "414     0.623264   0.283903  1.54665  dataMLT  \n",
       "415     0.404949   0.210680  1.54665  dataMLT  \n",
       "416     0.834575   0.317462  1.54665  dataMLT  \n",
       "417     0.778165   0.300038  1.54665  dataMLT  \n",
       "\n",
       "[350 rows x 102 columns]"
      ]
     },
     "execution_count": 12,
     "metadata": {},
     "output_type": "execute_result"
    }
   ],
   "source": [
    "train"
   ]
  },
  {
   "cell_type": "code",
   "execution_count": 34,
   "metadata": {},
   "outputs": [],
   "source": [
    "train.to_csv('train.csv')\n",
    "test.to_csv('test.csv') #data frames."
   ]
  },
  {
   "cell_type": "code",
   "execution_count": 13,
   "metadata": {},
   "outputs": [
    {
     "data": {
      "text/plain": [
       "Text(0.5, 0.98, 'Label distributions')"
      ]
     },
     "execution_count": 13,
     "metadata": {},
     "output_type": "execute_result"
    },
    {
     "data": {
      "image/png": "[encoded data removed]",
      "text/plain": [
       "<Figure size 640x480 with 2 Axes>"
      ]
     },
     "metadata": {},
     "output_type": "display_data"
    }
   ],
   "source": [
    "#visualize label distributions \n",
    "plt.subplot(1,2,1)\n",
    "plt.hist(y_test,range=(0,2.25),align='mid')\n",
    "plt.title('test')\n",
    "plt.subplot(1,2,2)\n",
    "plt.hist(y_train,range=(0,2.25),align='mid')\n",
    "plt.title('train')\n",
    "plt.suptitle('Label distributions')"
   ]
  },
  {
   "attachments": {},
   "cell_type": "markdown",
   "metadata": {},
   "source": [
    "## Statistical tests on train data only"
   ]
  },
  {
   "cell_type": "code",
   "execution_count": 14,
   "metadata": {},
   "outputs": [
    {
     "name": "stdout",
     "output_type": "stream",
     "text": [
      "87\n",
      "(350, 99)\n",
      "(86, 99)\n"
     ]
    }
   ],
   "source": [
    "#mwu tests on the train data\n",
    "mwu = pd.DataFrame()\n",
    "for i in range(len(mcolumns)):\n",
    "    var = mcolumns[i]\n",
    "    df = train.loc[:,[var,'label']]\n",
    "    update = pg.mwu(x = df[df.label == 'benign'][var],y = df[df.label == 'malignant'][var]) \n",
    "    mwu = pd.concat([mwu,update])\n",
    "mwu['met'] = mcolumns\n",
    "mwu['valid'] = mwu['p-val'] < 0.01\n",
    "varsmwu = list(mwu[mwu.valid].met)\n",
    "print(len(mwu[mwu.valid].met.unique()))\n",
    "\n",
    "print(X_train.shape)\n",
    "print(X_test.shape)\n"
   ]
  },
  {
   "cell_type": "code",
   "execution_count": 15,
   "metadata": {},
   "outputs": [
    {
     "name": "stdout",
     "output_type": "stream",
     "text": [
      "(350, 87)\n",
      "(86, 87)\n"
     ]
    }
   ],
   "source": [
    "#350x87, 86x87 subsetting the part with features passing the statistical tests\n",
    "X_train,X_test,y_train,y_test,g_train,g_test = tts(no_out,varsmwu,rs=42)\n",
    "print(X_train.shape)\n",
    "print(X_test.shape)"
   ]
  },
  {
   "cell_type": "code",
   "execution_count": 16,
   "metadata": {},
   "outputs": [
    {
     "data": {
      "text/plain": [
       "['methylfat(FMETD10) ratioFAT54_1d',\n",
       " 'methylenefat(FAT14) ratioFAT54_1d',\n",
       " 'methylenefat(FAT21) ratioFAT54_1d',\n",
       " 'methylenefat(FAT23) ratioFAT54_1d',\n",
       " 'methylenefat(FAT29) ratioFAT54_1d',\n",
       " 'fat39(fat39) ratioFAT54_1d',\n",
       " 'methyleneglycerolbackbone(MGB42) ratioFAT54_1d',\n",
       " 'olefinicfat(UFD54) ratioFAT54_1d',\n",
       " 'unsatfatrightcrossp(UFRlower) ratioFAT54_1d',\n",
       " 'unsatfatleftcrossp(UFLlower) ratioFAT54_1d',\n",
       " 'unsatfatrightcrossp(UFRupper) ratioFAT54_1d',\n",
       " 'unsatfatleftcrossp(UFLupper) ratioFAT54_1d',\n",
       " 'triglycerylfatcrossp(TGFRlower) ratioFAT54_1d',\n",
       " 'triglycerylfatcrossp(TGFRupper) ratioFAT54_1d',\n",
       " 'fat(0p9_1p32) ratioFAT54_1d',\n",
       " 'fat(1p32_0p9) ratioFAT54_1d',\n",
       " 'fat(1p64_2p36) ratioFAT54_1d',\n",
       " 'fat(2p36_1p64) ratioFAT54_1d',\n",
       " 'fat(1p32_2p06) ratioFAT54_1d',\n",
       " 'fat(2p06_1p32) ratioFAT54_1d',\n",
       " 'fat(3p9_4p3) ratioFAT54_1d',\n",
       " 'fat(4p2_3p9) ratioFAT54_1d',\n",
       " 'methylfat(FMETD10) FAT14ratio',\n",
       " 'methylenefat(FAT21) FAT14ratio',\n",
       " 'methylenefat(FAT23) FAT14ratio',\n",
       " 'methylenefat(FAT29) FAT14ratio',\n",
       " 'tcholine(CHO32) FAT14ratio',\n",
       " 'fat39(fat39) FAT14ratio',\n",
       " 'methyleneglycerolbackbone(MGB42) FAT14ratio',\n",
       " 'olefinicfat(UFD54) FAT14ratio',\n",
       " 'unsatfatrightcrossp(UFRlower) FAT14ratio',\n",
       " 'unsatfatleftcrossp(UFLupper) FAT14ratio',\n",
       " 'triglycerylfatcrossp(TGFRupper) FAT14ratio',\n",
       " 'fat(1p32_0p9) FAT14ratio',\n",
       " 'fat(1p64_2p36) FAT14ratio',\n",
       " 'fat(1p32_2p06) FAT14ratio',\n",
       " 'fat(2p06_1p32) FAT14ratio',\n",
       " 'fat(4p2_3p9) FAT14ratio',\n",
       " 'gly+myo FAT14ratio',\n",
       " 'methylfat(FMETD10) ratioFAT14_1d',\n",
       " 'methylenefat(FAT14) ratioFAT14_1d',\n",
       " 'methylenefat(FAT21) ratioFAT14_1d',\n",
       " 'methylenefat(FAT23) ratioFAT14_1d',\n",
       " 'methylenefat(FAT29) ratioFAT14_1d',\n",
       " 'fat39(fat39) ratioFAT14_1d',\n",
       " 'methyleneglycerolbackbone(MGB42) ratioFAT14_1d',\n",
       " 'olefinicfat(UFD54) ratioFAT14_1d',\n",
       " 'unsatfatrightcrossp(UFRlower) ratioFAT14_1d',\n",
       " 'unsatfatleftcrossp(UFLlower) ratioFAT14_1d',\n",
       " 'unsatfatrightcrossp(UFRupper) ratioFAT14_1d',\n",
       " 'unsatfatleftcrossp(UFLupper) ratioFAT14_1d',\n",
       " 'triglycerylfatcrossp(TGFRlower) ratioFAT14_1d',\n",
       " 'triglycerylfatcrossp(TGFRupper) ratioFAT14_1d',\n",
       " 'fat(0p9_1p32) ratioFAT14_1d',\n",
       " 'fat(1p32_0p9) ratioFAT14_1d',\n",
       " 'fat(1p64_2p36) ratioFAT14_1d',\n",
       " 'fat(2p36_1p64) ratioFAT14_1d',\n",
       " 'fat(1p32_2p06) ratioFAT14_1d',\n",
       " 'fat(2p06_1p32) ratioFAT14_1d',\n",
       " 'fat(3p9_4p3) ratioFAT14_1d',\n",
       " 'fat(4p2_3p9) ratioFAT14_1d',\n",
       " 'methylfat(FMETD10) ratioWAT47_1d',\n",
       " 'methylenefat(FAT14) ratioWAT47_1d',\n",
       " 'methylenefat(FAT21) ratioWAT47_1d',\n",
       " 'methylenefat(FAT23) ratioWAT47_1d',\n",
       " 'methylenefat(FAT29) ratioWAT47_1d',\n",
       " 'tcholine(CHO32) ratioWAT47_1d',\n",
       " 'methyleneglycerolbackbone(MGB42) ratioWAT47_1d',\n",
       " 'olefinicfat(UFD54) ratioWAT47_1d',\n",
       " 'unsatfatrightcrossp(UFRlower) ratioWAT47_1d',\n",
       " 'unsatfatleftcrossp(UFLlower) ratioWAT47_1d',\n",
       " 'unsatfatrightcrossp(UFRupper) ratioWAT47_1d',\n",
       " 'unsatfatleftcrossp(UFLupper) ratioWAT47_1d',\n",
       " 'triglycerylfatcrossp(TGFRlower) ratioWAT47_1d',\n",
       " 'triglycerylfatcrossp(TGFRupper) ratioWAT47_1d',\n",
       " 'fat(0p9_1p32) ratioWAT47_1d',\n",
       " 'fat(1p32_0p9) ratioWAT47_1d',\n",
       " 'fat(1p64_2p36) ratioWAT47_1d',\n",
       " 'fat(2p36_1p64) ratioWAT47_1d',\n",
       " 'fat(1p32_2p06) ratioWAT47_1d',\n",
       " 'fat(2p06_1p32) ratioWAT47_1d',\n",
       " 'fat(3p9_4p3) ratioWAT47_1d',\n",
       " 'gly+myo ratioWAT47_1d',\n",
       " 'nws_ffrac',\n",
       " 'nws_wfratio',\n",
       " 'nws_wfrac',\n",
       " 'adc']"
      ]
     },
     "execution_count": 16,
     "metadata": {},
     "output_type": "execute_result"
    }
   ],
   "source": [
    "varsmwu"
   ]
  },
  {
   "attachments": {},
   "cell_type": "markdown",
   "metadata": {},
   "source": [
    "## List of models and hyperparameter grid"
   ]
  },
  {
   "cell_type": "code",
   "execution_count": 17,
   "metadata": {},
   "outputs": [],
   "source": [
    "from sklearn.neural_network import MLPClassifier\n",
    "from sklearn.neighbors import KNeighborsClassifier\n",
    "from sklearn.svm import SVC\n",
    "from sklearn.tree import DecisionTreeClassifier\n",
    "from sklearn.naive_bayes import GaussianNB\n",
    "from sklearn.discriminant_analysis import QuadraticDiscriminantAnalysis\n"
   ]
  },
  {
   "cell_type": "code",
   "execution_count": 18,
   "metadata": {},
   "outputs": [
    {
     "name": "stdout",
     "output_type": "stream",
     "text": [
      "Nearest Neighbors 0.5697674418604651\n",
      "Linear SVM 0.7558139534883721\n",
      "RBF SVM 0.6046511627906976\n",
      "Decision Tree 0.813953488372093\n",
      "Neural Net 0.7558139534883721\n",
      "Naive Bayes 0.5581395348837209\n",
      "QDA 0.627906976744186\n"
     ]
    },
    {
     "name": "stderr",
     "output_type": "stream",
     "text": [
      "/Users/linlin/Library/Python/3.9/lib/python/site-packages/sklearn/discriminant_analysis.py:926: UserWarning: Variables are collinear\n",
      "  warnings.warn(\"Variables are collinear\")\n"
     ]
    }
   ],
   "source": [
    "# Code source: Gaël Varoquaux\n",
    "#              Andreas Müller\n",
    "# Modified for documentation by Jaques Grobler\n",
    "# License: BSD 3 clause https://scikit-learn.org/stable/auto_examples/classification/plot_classifier_comparison.html \n",
    "\n",
    "\n",
    "\n",
    "names = [\n",
    "    \"Nearest Neighbors\",\n",
    "    \"Linear SVM\",\n",
    "    \"RBF SVM\",\n",
    "   # \"Gaussian Process\",\n",
    "    \"Decision Tree\",\n",
    "    \"Neural Net\",\n",
    "    \"Naive Bayes\",\n",
    "    \"QDA\"\n",
    "]\n",
    "\n",
    "classifiers = [\n",
    "    KNeighborsClassifier(3),\n",
    "    SVC(kernel=\"linear\", C=0.025,random_state = 42),\n",
    "    SVC(gamma=2, C=1,random_state = 42),\n",
    "   # GaussianProcessClassifier(1.0 * RBF(1.0),random_state = 42),#took toolong\n",
    "    DecisionTreeClassifier(max_depth=5),\n",
    "    MLPClassifier(alpha=1, max_iter=1000,random_state = 42),\n",
    "    GaussianNB(),\n",
    "    QuadraticDiscriminantAnalysis()\n",
    "]\n",
    "\n",
    "# iterate over classifiers\n",
    "for name, clf in zip(names, classifiers):\n",
    "    clf.fit(X_train, y_train)\n",
    "    score =clf.score(X_test, y_test)\n",
    "    print(name+\" \"+str(score))\n",
    "\n",
    "    "
   ]
  },
  {
   "attachments": {},
   "cell_type": "markdown",
   "metadata": {},
   "source": [
    "retreive model params"
   ]
  },
  {
   "cell_type": "code",
   "execution_count": 19,
   "metadata": {},
   "outputs": [
    {
     "data": {
      "text/plain": [
       "{'priors': None, 'reg_param': 0.0, 'store_covariance': False, 'tol': 0.0001}"
      ]
     },
     "execution_count": 19,
     "metadata": {},
     "output_type": "execute_result"
    }
   ],
   "source": [
    "GaussianNB().get_params()"
   ]
  },
  {
   "attachments": {},
   "cell_type": "markdown",
   "metadata": {},
   "source": [
    "### Model 0: linear svm"
   ]
  },
  {
   "cell_type": "code",
   "execution_count": 20,
   "metadata": {},
   "outputs": [
    {
     "name": "stdout",
     "output_type": "stream",
     "text": [
      "SVC(C=0.02, kernel='linear', random_state=42)\n",
      "0.9012132433867229\n"
     ]
    }
   ],
   "source": [
    "# Optimize linear SVM\n",
    "lsvc = SVC(kernel=\"linear\", random_state = 42)\n",
    "# gridsearch\n",
    "svm_grid = {'C': [0.01,0.02,0.05,0.1,0.15,0.2]} \n",
    "svm_gridcv = GridSearchCV(lsvc, svm_grid, verbose = 0,cv = StratifiedGroupKFold(5))\n",
    "svm_gridcv.fit(X_train,y_train,groups=g_train)\n",
    "print(svm_gridcv.best_estimator_)\n",
    "print(svm_gridcv.best_score_)\n"
   ]
  },
  {
   "cell_type": "code",
   "execution_count": 21,
   "metadata": {},
   "outputs": [],
   "source": [
    "\n",
    "sc = []\n",
    "cc = []\n",
    "C = np.arange(0.01,1,0.01)\n",
    "for i in C:\n",
    "    svct = SVC(kernel=\"linear\",C = i, random_state = 42)\n",
    "    scc = np.mean(cross_val_score(svct,X_train,y_train,cv=StratifiedGroupKFold(5),verbose=0,groups=g_train))\n",
    "    sc.append(scc)\n",
    "    cc.append(i)\n"
   ]
  },
  {
   "cell_type": "code",
   "execution_count": 22,
   "metadata": {},
   "outputs": [
    {
     "data": {
      "image/png": "[encoded data removed]",
      "text/plain": [
       "<Figure size 640x480 with 1 Axes>"
      ]
     },
     "metadata": {},
     "output_type": "display_data"
    }
   ],
   "source": [
    "\n",
    "plt.scatter(cc[sc.index(max(sc))], max(sc), marker='o', color='red')\n",
    "plt.plot(cc,sc)\n",
    "plt.text(cc[sc.index(max(sc))], max(sc), 'C='+str(cc[sc.index(max(sc))]), ha='center', va='bottom')\n",
    "plt.title('CV accuracy v.s. C for linear SVM')\n",
    "plt.show()\n"
   ]
  },
  {
   "attachments": {},
   "cell_type": "markdown",
   "metadata": {},
   "source": [
    "optimal svm"
   ]
  },
  {
   "cell_type": "code",
   "execution_count": null,
   "metadata": {},
   "outputs": [],
   "source": [
    "svc_opt = SVC(kernel=\"linear\", C = 0.02,random_state = 42)"
   ]
  },
  {
   "attachments": {},
   "cell_type": "markdown",
   "metadata": {},
   "source": [
    "## Bagging method"
   ]
  },
  {
   "cell_type": "code",
   "execution_count": 30,
   "metadata": {},
   "outputs": [],
   "source": [
    "from sklearn.ensemble import BaggingClassifier\n"
   ]
  },
  {
   "attachments": {},
   "cell_type": "markdown",
   "metadata": {},
   "source": [
    "### Bagging Classifier\n",
    "\n",
    "Aim at reducing variances by combining the predictions of multiple independent estimators (homogenous)\n",
    "\n",
    "Decision Tree-based Bagging Clssifier performs better than the random forest based one, attaining 88.75% accuracy on test sets."
   ]
  },
  {
   "attachments": {},
   "cell_type": "markdown",
   "metadata": {},
   "source": [
    "### Model 1: DT based bagging classifier"
   ]
  },
  {
   "cell_type": "code",
   "execution_count": null,
   "metadata": {},
   "outputs": [],
   "source": [
    "dt_grid ={'bootstrap': [True, False],\n",
    "'bootstrap_features': [True, False],    \n",
    "'n_estimators': [5, 10, 15],\n",
    "'max_samples' : [0.6, 0.8, 1.0],   \n",
    "'base_estimator__max_depth' : [1, 2, 3, 4, 5, 10, 20, 50],\n",
    "'base_estimator__max_features' : [0.6, 0.8, 1.0]}\n",
    "\n",
    "\n",
    "dtc = DecisionTreeClassifier(random_state = 42)\n",
    "baggingdt = BaggingClassifier(dtc,random_state = 42)\n",
    "bagdt_cv = GridSearchCV(baggingdt,dt_grid, verbose = 0,cv = StratifiedGroupKFold(5))\n",
    "bagdt_cv.fit(X_train,y_train,groups=g_train)\n",
    "print(bagdt_cv.best_estimator_)\n",
    "print(bagdt_cv.best_score_)"
   ]
  },
  {
   "cell_type": "code",
   "execution_count": null,
   "metadata": {},
   "outputs": [],
   "source": [
    "#Grid for svc-based bagging classifier\n",
    "lm_grid ={'bootstrap': [True, False],\n",
    "'bootstrap_features': [True, False],    \n",
    "'n_estimators': [5, 10, 15],\n",
    "'max_samples' : [0.6, 0.8, 1.0],   \n",
    "'base_estimator__C':[0.0001,0.005,0.02,0.0015,0.025,0.01,0.1, 0.25,1]}\n",
    "\n",
    "bagginglm = BaggingClassifier(SVC(kernel=\"linear\", C = 0.0015,random_state = 42),random_state = 42)\n"
   ]
  },
  {
   "cell_type": "code",
   "execution_count": null,
   "metadata": {},
   "outputs": [],
   "source": [
    "baglm_cv = GridSearchCV(bagginglm,lm_grid, verbose = 0,cv = StratifiedGroupKFold(5))\n",
    "baglm_cv.fit(X_train,y_train,groups=g_train)\n",
    "print(baglm_cv.best_estimator_)\n",
    "print(baglm_cv.best_score_)"
   ]
  },
  {
   "cell_type": "code",
   "execution_count": null,
   "metadata": {},
   "outputs": [],
   "source": [
    "#bt_opt = BaggingClassifier(base_estimator=SVC(C=0.02, kernel='linear', random_state=42),\n",
    "  #                bootstrap=False, bootstrap_features=True, max_samples=0.6,\n",
    "   #               n_estimators=5, random_state=42)"
   ]
  },
  {
   "cell_type": "code",
   "execution_count": null,
   "metadata": {},
   "outputs": [],
   "source": [
    "sc = []\n",
    "steps = np.arange(1,20,2)\n",
    "for i in steps:\n",
    "    model = BaggingClassifier(base_estimator=DecisionTreeClassifier(max_depth=1,\n",
    "                                                        max_features=1.0,\n",
    "                                                        random_state=42),\n",
    "                  bootstrap_features=True, max_samples=0.6, n_estimators=i,\n",
    "                  random_state=42)\n",
    "    scc = np.mean(cross_val_score(model,X_train,y_train,cv=StratifiedGroupKFold(5),verbose=0,groups=g_train))\n",
    "    sc.append(scc)\n",
    "\n",
    "\n"
   ]
  },
  {
   "cell_type": "code",
   "execution_count": null,
   "metadata": {},
   "outputs": [],
   "source": [
    "\n",
    "plt.scatter(steps[sc.index(max(sc))], max(sc), marker='o', color='red')\n",
    "plt.plot(steps,sc)\n",
    "plt.text(steps[sc.index(max(sc))], max(sc), 'n='+str(steps[sc.index(max(sc))]), ha='center', va='bottom')\n",
    "plt.title('CV accuracy v.s. #estimators for DT-based bagging')\n",
    "plt.show()"
   ]
  },
  {
   "attachments": {},
   "cell_type": "markdown",
   "metadata": {},
   "source": [
    "optimal bagging"
   ]
  },
  {
   "cell_type": "code",
   "execution_count": null,
   "metadata": {},
   "outputs": [],
   "source": [
    "\n",
    "\n",
    "bt_opt = BaggingClassifier(base_estimator=DecisionTreeClassifier(max_depth=1,\n",
    "                                                        max_features=1.0,\n",
    "                                                        random_state=42),\n",
    "                  bootstrap_features=True, max_samples=0.6, n_estimators=13,\n",
    "                  random_state=42)"
   ]
  },
  {
   "attachments": {},
   "cell_type": "markdown",
   "metadata": {},
   "source": [
    "### Random Forest Classifier\n",
    "\n",
    " a meta estimator that fits a number of base tree classifiers on various sub-samples of the dataset and uses averaging to improve the predictive accuracy and control over-fitting  \n",
    "\n",
    "Doesn't seem promising. "
   ]
  },
  {
   "cell_type": "code",
   "execution_count": 31,
   "metadata": {},
   "outputs": [],
   "source": [
    "from sklearn.ensemble import RandomForestClassifier,ExtraTreesClassifier\n"
   ]
  },
  {
   "cell_type": "code",
   "execution_count": null,
   "metadata": {},
   "outputs": [],
   "source": [
    "rfc = RandomForestClassifier(n_estimators=200,random_state=42)\n",
    "rfc.fit(X_train,y_train)\n",
    "rfcsc = rfc.score(X_test,y_test)\n",
    "#extra random forest \n",
    "exrfc = ExtraTreesClassifier(n_estimators=200, max_depth=None,\n",
    "    min_samples_split=2, random_state=42)\n",
    "exrfc.fit(X_train,y_train)\n",
    "exrfcsc = exrfc.score(X_test,y_test)\n",
    "print(\"Extra RandomForest: \"+str(exrfcsc))\n",
    "print(\"RandomForest: \"+str(rfcsc))\n"
   ]
  },
  {
   "attachments": {},
   "cell_type": "markdown",
   "metadata": {},
   "source": [
    "### Model 2: Random Forest\n"
   ]
  },
  {
   "cell_type": "code",
   "execution_count": null,
   "metadata": {},
   "outputs": [],
   "source": [
    "n_estimators = np.arange(1,200,50)\n",
    "# Maximum nucmber of levels in tree\n",
    "max_depth = [1,3,5,10,15]\n",
    "# Minimum number of samples required to split a node\n",
    "min_samples_split = [2, 5, 10]\n",
    "# Minimum number of samples required at each leaf node\n",
    "min_samples_leaf = [1, 2, 4]\n",
    "# Method of selecting samples for training each tree\n",
    "bootstrap = [True, False]\n",
    "# Create the random grid\n",
    "random_grid = {'n_estimators': n_estimators,\n",
    "               'max_depth': max_depth,\n",
    "               'min_samples_split': min_samples_split,\n",
    "               'min_samples_leaf': min_samples_leaf,\n",
    "               'bootstrap': bootstrap}\n",
    "\n",
    "rfc = RandomForestClassifier(random_state=42)\n",
    "r_cv = GridSearchCV(rfc, random_grid, verbose = 0,cv = StratifiedGroupKFold(5))\n",
    "r_cv.fit(X_train,y_train,groups=g_train)\n",
    "print(r_cv.best_estimator_)\n",
    "print(r_cv.best_score_)"
   ]
  },
  {
   "cell_type": "code",
   "execution_count": null,
   "metadata": {},
   "outputs": [],
   "source": [
    "sc = []\n",
    "steps = np.arange(10,500,10)\n",
    "for i in steps:\n",
    "    classifier = RandomForestClassifier(bootstrap=False, max_depth=5, min_samples_split=10,\n",
    "                       n_estimators=i, random_state=42)\n",
    "    scc = np.mean(cross_val_score(classifier,X_train,y_train,cv=StratifiedGroupKFold(5),verbose=0,groups=g_train))\n",
    "    sc.append(scc)\n",
    "\n",
    "\n",
    "\n",
    "plt.scatter(steps[sc.index(max(sc))], max(sc), marker='o', color='red')\n",
    "plt.plot(steps,sc)\n",
    "plt.text(steps[sc.index(max(sc))], max(sc), 'n='+str(steps[sc.index(max(sc))]), ha='center', va='bottom')\n",
    "plt.title('CV accuracy v.s. #estimators for RF')\n",
    "plt.show()"
   ]
  },
  {
   "attachments": {},
   "cell_type": "markdown",
   "metadata": {},
   "source": [
    "optimal random forest"
   ]
  },
  {
   "cell_type": "code",
   "execution_count": null,
   "metadata": {},
   "outputs": [],
   "source": [
    "rf_opt = RandomForestClassifier(bootstrap=False, max_depth=5, min_samples_split=10,\n",
    "                       n_estimators=40, random_state=42)"
   ]
  },
  {
   "attachments": {},
   "cell_type": "markdown",
   "metadata": {},
   "source": [
    "### Voting Classifier\n",
    "Combine conceptually different machine learning algorithms using a majority vote or soft vote to average performance (heterogenous) \n",
    "\n",
    "With other choices of based learners, voting classifier could potentially reach higher classification accuracies. "
   ]
  },
  {
   "cell_type": "code",
   "execution_count": null,
   "metadata": {},
   "outputs": [],
   "source": [
    "from sklearn.ensemble import VotingClassifier"
   ]
  },
  {
   "cell_type": "code",
   "execution_count": null,
   "metadata": {},
   "outputs": [],
   "source": [
    "rbfsvc = SVC(gamma=2, C=1,random_state = 42)\n",
    "dt = DecisionTreeClassifier(max_depth=5,random_state = 42)\n",
    "nb = GaussianNB()\n",
    "rfc = RandomForestClassifier(n_estimators=200,random_state=42)\n",
    "\n",
    "eclf = VotingClassifier(\n",
    "    estimators=[('rbf svc', rbfsvc), ('dt', dt), ('nb', nb),('rfc', rfc)],\n",
    "    voting='hard')\n",
    "\n",
    "for clf, label in zip([rbfsvc,dt,nb,rfc, eclf], ['RBF SVC', 'Decision Tree', 'Naive Bayes','Random Forest', 'Ensemble']):\n",
    "    clf.fit(X_train,y_train)\n",
    "    print(label)\n",
    "    print(clf.score(X_test,y_test))\n"
   ]
  },
  {
   "attachments": {},
   "cell_type": "markdown",
   "metadata": {},
   "source": [
    "## Boosting method  \n",
    "\n",
    "Aim at reducing bias by sequentially combining weak base learners that learn from previous mistakes (also homogenous)"
   ]
  },
  {
   "attachments": {},
   "cell_type": "markdown",
   "metadata": {},
   "source": [
    "Gradient Boosting and Extra Gradient Boosting methods show potentials. \n",
    "\n",
    "https://datascience.stackexchange.com/questions/74488/tuning-parameters-for-gradient-boosting-xgboost"
   ]
  },
  {
   "attachments": {},
   "cell_type": "markdown",
   "metadata": {},
   "source": [
    "### Adaboost: SVC base learners"
   ]
  },
  {
   "cell_type": "code",
   "execution_count": null,
   "metadata": {},
   "outputs": [],
   "source": [
    "from sklearn.ensemble import AdaBoostClassifier\n"
   ]
  },
  {
   "cell_type": "code",
   "execution_count": null,
   "metadata": {},
   "outputs": [],
   "source": [
    "# SVC AS BASE\n",
    "\n",
    "rbfsvc2 = SVC(gamma=2,random_state = 42)\n",
    "clf = AdaBoostClassifier(n_estimators=100,base_estimator = rbfsvc2,algorithm='SAMME') #SVC above\n",
    "clf.fit(X_train, y_train)\n",
    "clf.score(X_test, y_test)"
   ]
  },
  {
   "cell_type": "code",
   "execution_count": null,
   "metadata": {},
   "outputs": [],
   "source": [
    "\n",
    "clf = AdaBoostClassifier(n_estimators=30) #SVC above\n",
    "clf.fit(X_train, y_train)\n",
    "clf.score(X_test, y_test)"
   ]
  },
  {
   "attachments": {},
   "cell_type": "markdown",
   "metadata": {},
   "source": [
    "### Model 3: Ada Boost"
   ]
  },
  {
   "cell_type": "code",
   "execution_count": null,
   "metadata": {},
   "outputs": [],
   "source": [
    "ada_grid = dict()\n",
    "\n",
    "# estimator till 500\n",
    "ada_grid['n_estimators'] = np.arange(10,200,10)\n",
    "\n",
    "# defining learning rate\n",
    "ada_grid['learning_rate'] = [0.0001, 0.01, 0.1, 1.0, 1.5]\n",
    "\n",
    "\n",
    "ada_grid['base_estimator__max_depth']= [1, 3, 5, 10, 20]\n",
    "ada_grid['base_estimator__max_features']=[0.6, 0.8, 1.0]\n",
    "adamdl = AdaBoostClassifier(DecisionTreeClassifier(),random_state = 42)\n",
    "ada_gridcv = GridSearchCV(estimator=adamdl, param_grid=ada_grid,cv=StratifiedGroupKFold(5))\n",
    "ada_gridcv.fit(X_train,y_train,groups=g_train)\n",
    "print(ada_gridcv.best_estimator_)\n",
    "print(ada_gridcv.best_score_)"
   ]
  },
  {
   "cell_type": "code",
   "execution_count": null,
   "metadata": {},
   "outputs": [],
   "source": [
    "sc = []\n",
    "steps = np.arange(10,200,10)\n",
    "for i in steps:\n",
    "    classifier = AdaBoostClassifier(base_estimator=DecisionTreeClassifier(max_depth=1,\n",
    "                                                         max_features=0.6),\n",
    "                   learning_rate=0.1, n_estimators=i, random_state=42)\n",
    "    scc = np.mean(cross_val_score(classifier,X_train,y_train,cv=StratifiedGroupKFold(5),verbose=0,groups=g_train))\n",
    "    sc.append(scc)\n"
   ]
  },
  {
   "cell_type": "code",
   "execution_count": null,
   "metadata": {},
   "outputs": [],
   "source": [
    "plt.scatter(steps[sc.index(max(sc))], max(sc), marker='o', color='red')\n",
    "plt.plot(steps,sc)\n",
    "plt.text(steps[sc.index(max(sc))], max(sc), 'n='+str(steps[sc.index(max(sc))]), ha='center', va='bottom')\n",
    "plt.title('CV accuracy v.s. #estimators for AdaBoost')\n",
    "plt.show()"
   ]
  },
  {
   "attachments": {},
   "cell_type": "markdown",
   "metadata": {},
   "source": [
    "optimal ada\n"
   ]
  },
  {
   "cell_type": "code",
   "execution_count": null,
   "metadata": {},
   "outputs": [],
   "source": [
    "ada_opt =  AdaBoostClassifier(base_estimator=DecisionTreeClassifier(max_depth=1,\n",
    "                                                         max_features=0.6),\n",
    "                   learning_rate=0.1, n_estimators=100, random_state=42)\n",
    "\n"
   ]
  },
  {
   "attachments": {},
   "cell_type": "markdown",
   "metadata": {},
   "source": [
    "### Gradient boost:\n",
    " trees based, can't alter"
   ]
  },
  {
   "cell_type": "code",
   "execution_count": null,
   "metadata": {},
   "outputs": [],
   "source": [
    "from sklearn.ensemble import GradientBoostingClassifier\n"
   ]
  },
  {
   "cell_type": "code",
   "execution_count": null,
   "metadata": {},
   "outputs": [],
   "source": [
    "\n",
    "glf = GradientBoostingClassifier(n_estimators=100, random_state=42,warm_start=False)\n",
    "\n",
    "glf.fit(X_train, y_train)\n",
    "glf.score(X_test, y_test)"
   ]
  },
  {
   "attachments": {},
   "cell_type": "markdown",
   "metadata": {},
   "source": [
    "### Model 4: Gradient Boost\n"
   ]
  },
  {
   "cell_type": "code",
   "execution_count": null,
   "metadata": {},
   "outputs": [],
   "source": [
    "learning_rates = [1, 0.5,0.1]\n",
    "n_estimators = np.arange(10,200,10)\n",
    "max_depths = [2, 3, 5, 10,20,30]\n",
    "min_samples_split = np.linspace(0.1, 1.0, 3, endpoint=True)\n",
    "min_samples_leafs = np.linspace(0.1, 0.5, 3, endpoint=True)\n",
    "\n",
    "\n",
    "# Define the grid of hyperparameters to search\n",
    "glf_grid = {\n",
    "    'max_depth':max_depths,\n",
    "    'learning_rate':learning_rates,\n",
    "    'min_samples_split':min_samples_split,\n",
    "    'min_samples_leaf':min_samples_leafs\n",
    "    }\n",
    "\n",
    "    #parameters = {\n",
    "    #\"loss\":[\"deviance\"],\n",
    "    #\"learning_rate\": [0.01, 0.025, 0.05, 0.075, 0.1, 0.15, 0.2],\n",
    "   # \"min_samples_split\": np.linspace(0.1, 0.5, 12),\n",
    "   # \"min_samples_leaf\": np.linspace(0.1, 0.5, 12),\n",
    "   # \"max_depth\":[3,5],\n",
    "   # \"max_features\":[\"log2\",\"sqrt\"],\n",
    "   # \"criterion\": [\"friedman_mse\",  \"mae\"],\n",
    "   # \"subsample\":[0.5, 0.618, 0.8, 0.85, 0.9, 0.95, 1.0],\n",
    "    #\"n_estimators\":[10,50,200]\n",
    "    #}\n",
    "\n",
    "\n",
    "glf = GradientBoostingClassifier(random_state=42,warm_start=False)\n",
    "glf_gridcv = GridSearchCV(glf, glf_grid,cv=StratifiedGroupKFold(5))\n",
    "glf_gridcv.fit(X_train,y_train,groups=g_train)"
   ]
  },
  {
   "cell_type": "code",
   "execution_count": null,
   "metadata": {},
   "outputs": [],
   "source": [
    "print(glf_gridcv.best_estimator_)\n",
    "print(glf_gridcv.best_score_)"
   ]
  },
  {
   "cell_type": "code",
   "execution_count": null,
   "metadata": {},
   "outputs": [],
   "source": [
    "sc = []\n",
    "steps = np.arange(10,300,10)\n",
    "for i in steps:\n",
    "    classifier = GradientBoostingClassifier(n_estimators = i,learning_rate=0.5, max_depth=10,\n",
    "                           min_samples_leaf=0.1, min_samples_split=0.1,\n",
    "                           random_state=42)\n",
    "    scc = np.mean(cross_val_score(classifier,X_train,y_train,cv=StratifiedGroupKFold(5),verbose=0,groups=g_train))\n",
    "    sc.append(scc)\n",
    "\n",
    "\n",
    "\n",
    "plt.scatter(steps[sc.index(max(sc))], max(sc), marker='o', color='red')\n",
    "plt.plot(steps,sc)\n",
    "plt.text(steps[sc.index(max(sc))], max(sc), 'n='+str(steps[sc.index(max(sc))]), ha='center', va='bottom')\n",
    "plt.title('CV accuracy v.s. #estimators for GradientBoost')\n",
    "plt.show()"
   ]
  },
  {
   "attachments": {},
   "cell_type": "markdown",
   "metadata": {},
   "source": [
    "gradient boost optimal"
   ]
  },
  {
   "attachments": {},
   "cell_type": "markdown",
   "metadata": {},
   "source": [
    "glf_opt = GradientBoostingClassifier(n_estimators =50 ,learning_rate=0.5, max_depth=10,\n",
    "                           min_samples_leaf=0.1, min_samples_split=0.1,\n",
    "                           random_state=42)"
   ]
  },
  {
   "attachments": {},
   "cell_type": "markdown",
   "metadata": {},
   "source": [
    "### XGBoost    \n",
    "\n",
    "https://datascience.stackexchange.com/questions/35713/i-got-100-accuracy-on-my-test-set-is-there-something-wrong   # good advice  \n",
    "\n",
    "1) xgb rf https://xgboost.readthedocs.io/en/stable/tutorials/rf.html\n",
    "    prevent overfitting\n",
    "2) stratified kboost https://scikit-learn.org/stable/modules/generated/sklearn.model_selection.StratifiedKFold.html \n",
    "    mediate class balance "
   ]
  },
  {
   "cell_type": "code",
   "execution_count": null,
   "metadata": {},
   "outputs": [],
   "source": [
    "import xgboost as xgb \n"
   ]
  },
  {
   "cell_type": "code",
   "execution_count": null,
   "metadata": {},
   "outputs": [],
   "source": [
    "xgbrf = xgb.XGBRFClassifier(objective=\"binary:logistic\",random_state = 42)\n",
    "\n",
    "xgbrf.fit(X_train, y_train)\n",
    "xgbrf.score(X_test, y_test)"
   ]
  },
  {
   "cell_type": "code",
   "execution_count": null,
   "metadata": {},
   "outputs": [],
   "source": [
    "xgbc = xgb.XGBClassifier(objective=\"binary:logistic\",random_state = 42)\n",
    "xgbc.fit(X_train, y_train)\n",
    "xgbc.score(X_test, y_test)"
   ]
  },
  {
   "attachments": {},
   "cell_type": "markdown",
   "metadata": {},
   "source": [
    "### Model 5: XGBoost\n",
    "\n"
   ]
  },
  {
   "cell_type": "code",
   "execution_count": null,
   "metadata": {},
   "outputs": [],
   "source": [
    "# xgb grid\n",
    "#base_score=[0.25,0.5,1]\n",
    "n_estimators = np.arange(10,200,20)\n",
    "max_depth = [2, 3, 5, 10]\n",
    "booster=['gbtree']\n",
    "learning_rate=[0.1,0.5,1]\n",
    "min_child_weight=[1,2,3]\n",
    "\n",
    "# Define the grid of hyperparameters to search\n",
    "xgb_grid = {\n",
    "    'n_estimators': n_estimators,\n",
    "    'max_depth':max_depth,\n",
    "    'learning_rate':learning_rate,\n",
    "    'min_child_weight':min_child_weight,\n",
    "    'booster':booster,\n",
    "    #'base_score':base_score\n",
    "    }\n",
    "\n",
    "xgbc = xgb.XGBClassifier(random_state = 42,)\n",
    "xgb_gridcv = GridSearchCV(xgbc, xgb_grid,cv=StratifiedGroupKFold(5))\n",
    "xgb_gridcv.fit(X_train,y_train,groups=g_train)"
   ]
  },
  {
   "cell_type": "code",
   "execution_count": null,
   "metadata": {},
   "outputs": [],
   "source": [
    "print(xgb_gridcv.best_estimator_)\n",
    "print(xgb_gridcv.best_score_)"
   ]
  },
  {
   "cell_type": "code",
   "execution_count": null,
   "metadata": {},
   "outputs": [],
   "source": [
    "sc = []\n",
    "steps = np.arange(10,300,10)\n",
    "for i in steps:\n",
    "    classifier = xgb.XGBClassifier(booster='gbtree', learning_rate=0.5, \n",
    "              min_child_weight=3,\n",
    "              n_estimators=i,random_state=42)\n",
    "    scc = np.mean(cross_val_score(classifier,X_train,y_train,cv=StratifiedGroupKFold(5),verbose=0,groups=g_train))\n",
    "    sc.append(scc)\n",
    "\n",
    "\n",
    "\n",
    "plt.scatter(steps[sc.index(max(sc))], max(sc), marker='o', color='red')\n",
    "plt.plot(steps,sc)\n",
    "plt.text(steps[sc.index(max(sc))], max(sc), 'n='+str(steps[sc.index(max(sc))]), ha='center', va='bottom')\n",
    "plt.title('CV accuracy v.s. #estimators for XGBoost')\n",
    "plt.show()"
   ]
  },
  {
   "attachments": {},
   "cell_type": "markdown",
   "metadata": {},
   "source": [
    "optimal extreme gradient boost "
   ]
  },
  {
   "cell_type": "code",
   "execution_count": null,
   "metadata": {},
   "outputs": [],
   "source": [
    "xgb_opt = xgb.XGBClassifier(booster='gbtree', learning_rate=0.5, \n",
    "              min_child_weight=3,\n",
    "              n_estimators=20,random_state=42)"
   ]
  },
  {
   "attachments": {},
   "cell_type": "markdown",
   "metadata": {},
   "source": [
    "### Catboost"
   ]
  },
  {
   "cell_type": "code",
   "execution_count": null,
   "metadata": {},
   "outputs": [],
   "source": [
    "from catboost import CatBoostClassifier\n"
   ]
  },
  {
   "cell_type": "code",
   "execution_count": null,
   "metadata": {},
   "outputs": [],
   "source": [
    "\n",
    "cat = CatBoostClassifier(verbose=0)\n",
    "cat.fit(X_train, y_train)\n",
    "cat.score(X_test, y_test)\n",
    "#'Wilcoxon', 'IncToDec', 'Iter'. \n",
    "#https://catboost.ai/en/docs/concepts/python-reference_catboostclassifier "
   ]
  },
  {
   "attachments": {},
   "cell_type": "markdown",
   "metadata": {},
   "source": [
    "### Model 6: Catboost\n"
   ]
  },
  {
   "cell_type": "code",
   "execution_count": null,
   "metadata": {},
   "outputs": [],
   "source": [
    "catm = CatBoostClassifier(verbose=0)\n",
    "grid = {'learning_rate': [0.03, 0.1,0.1],\n",
    "        'n_estimators': [10, 50, 100, 150, 200]\n",
    "        }\n",
    "\n",
    "grid_search_result = catm.grid_search(grid, \n",
    "                                      cv = StratifiedGroupKFold(5),\n",
    "                                       X=X_train, \n",
    "                                       y=y_train, \n",
    "                                       plot=True)"
   ]
  },
  {
   "cell_type": "code",
   "execution_count": null,
   "metadata": {},
   "outputs": [],
   "source": [
    "catm = CatBoostClassifier(verbose=0)\n",
    "grid = {'learning_rate': [0.03, 0.1,0.1],\n",
    "        'n_estimators': [10, 50, 100, 150, 200]\n",
    "        }\n",
    "\n",
    "grid_search_result = catm.grid_search(grid, \n",
    "                                      cv = StratifiedGroupKFold(5),\n",
    "                                       X=X_train, \n",
    "                                       y=y_train, \n",
    "                                       plot=True)\n",
    "grid_search_result['params']\n"
   ]
  },
  {
   "cell_type": "code",
   "execution_count": null,
   "metadata": {},
   "outputs": [],
   "source": [
    "sc = []\n",
    "steps = np.arange(10,500,50)\n",
    "for i in steps:\n",
    "    classifier = CatBoostClassifier(**{'n_estimators':i,'depth': 6, 'l2_leaf_reg': 7, 'learning_rate': 0.1},random_state=42,verbose=0)\n",
    "    scc = np.mean(cross_val_score(classifier,X_train,y_train,cv=StratifiedGroupKFold(5),verbose=0,groups=g_train))\n",
    "    sc.append(scc)\n",
    "\n",
    "\n",
    "\n",
    "plt.scatter(steps[sc.index(max(sc))], max(sc), marker='o', color='red')\n",
    "plt.plot(steps,sc)\n",
    "plt.text(steps[sc.index(max(sc))], max(sc), 'n='+str(steps[sc.index(max(sc))]), ha='center', va='bottom')\n",
    "plt.title('CV accuracy v.s. #estimators for CatBoost')\n",
    "plt.show()"
   ]
  },
  {
   "attachments": {},
   "cell_type": "markdown",
   "metadata": {},
   "source": [
    "optimal catboost"
   ]
  },
  {
   "cell_type": "code",
   "execution_count": null,
   "metadata": {},
   "outputs": [],
   "source": [
    "cat_opt = CatBoostClassifier(**{'n_estimators':310,'depth': 6, 'l2_leaf_reg': 7, 'learning_rate': 0.1},random_state=42,verbose=0)"
   ]
  },
  {
   "attachments": {},
   "cell_type": "markdown",
   "metadata": {},
   "source": [
    "### Light Gradient Boost   \n",
    "(Faster ver. of gradient boost)\n",
    "\n",
    "See external notebook: \n",
    "https://colab.research.google.com/drive/1cjJutDZvMGfTFOcr_URfSQEq8Pe3LlF3?usp=sharing  \n",
    "\n",
    "There is also a lightGBM inspired regression tree based gradient boosting classifier called [HistGradientBoostingClassifier](https://scikit-learn.org/stable/modules/generated/sklearn.ensemble.HistGradientBoostingClassifier.html#sklearn.ensemble.HistGradientBoostingClassifier) that is basically a faster implementation that could impute missing values.  \n"
   ]
  },
  {
   "attachments": {},
   "cell_type": "markdown",
   "metadata": {},
   "source": [
    "## Decision tree"
   ]
  },
  {
   "attachments": {},
   "cell_type": "markdown",
   "metadata": {},
   "source": [
    "#### Model 7: Decision tree"
   ]
  },
  {
   "cell_type": "code",
   "execution_count": null,
   "metadata": {},
   "outputs": [],
   "source": [
    "tree = DecisionTreeClassifier(max_depth=5),#,random_state = 42\n",
    "# Define the parameter grid for grid search\n",
    "param_grid = {\n",
    "    'criterion': ['gini', 'entropy'],\n",
    "    'max_depth': [ 5, 10, 15,20,30,40,None],\n",
    "    'min_samples_split': [2, 5, 10],\n",
    "    'min_samples_leaf': [1, 2, 4]\n",
    "}\n",
    "\n",
    "# Create the Decision Tree Classifier\n",
    "dt_classifier = DecisionTreeClassifier()\n",
    "\n",
    "# Perform Grid Search to find the best hyperparameters\n",
    "grid_search = GridSearchCV(dt_classifier, param_grid, cv=StratifiedGroupKFold(5))\n",
    "grid_search.fit(X_train, y_train,groups=g_train)\n",
    "\n",
    "# Get the best hyperparameters and the corresponding score\n",
    "best_params = grid_search.best_params_\n",
    "best_score = grid_search.best_score_\n",
    "\n",
    "print(\"Best Hyperparameters:\", best_params)\n",
    "print(\"Best Score:\", best_score)\n",
    "print(grid_search.best_estimator_)"
   ]
  },
  {
   "cell_type": "code",
   "execution_count": null,
   "metadata": {},
   "outputs": [],
   "source": [
    "\n",
    "sc = []\n",
    "steps = np.arange(10,100,10)\n",
    "for i in steps:\n",
    "    classifier = DecisionTreeClassifier(criterion='entropy', max_depth=i, min_samples_leaf=2,\n",
    "                       min_samples_split=10)\n",
    "    scc = np.mean(cross_val_score(classifier,X_train,y_train,cv=StratifiedGroupKFold(5),verbose=0,groups=g_train))\n",
    "    sc.append(scc)\n",
    "\n",
    "plt.scatter(steps[sc.index(max(sc))], max(sc), marker='o', color='red')\n",
    "plt.plot(steps,sc)\n",
    "plt.text(steps[sc.index(max(sc))], max(sc), 'n='+str(steps[sc.index(max(sc))]), ha='center', va='bottom')\n",
    "plt.title('CV accuracy v.s. #estimators for Decision tree')\n",
    "plt.show()"
   ]
  },
  {
   "attachments": {},
   "cell_type": "markdown",
   "metadata": {},
   "source": [
    "optimal decision tree"
   ]
  },
  {
   "cell_type": "code",
   "execution_count": null,
   "metadata": {},
   "outputs": [],
   "source": [
    "tree_opt = DecisionTreeClassifier(criterion='entropy', max_depth=60, min_samples_leaf=2,\n",
    "                       min_samples_split=10)"
   ]
  }
 ],
 "metadata": {
  "kernelspec": {
   "display_name": "Python 3",
   "language": "python",
   "name": "python3"
  },
  "language_info": {
   "codemirror_mode": {
    "name": "ipython",
    "version": 3
   },
   "file_extension": ".py",
   "mimetype": "text/x-python",
   "name": "python",
   "nbconvert_exporter": "python",
   "pygments_lexer": "ipython3",
   "version": "3.9.6"
  },
  "orig_nbformat": 4
 },
 "nbformat": 4,
 "nbformat_minor": 2
}
